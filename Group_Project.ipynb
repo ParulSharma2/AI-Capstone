{
 "cells": [
  {
   "cell_type": "code",
   "execution_count": 13,
   "id": "6dea4a89",
   "metadata": {},
   "outputs": [
    {
     "name": "stdout",
     "output_type": "stream",
     "text": [
      "Columns in merged dataframe: ['Molecule ChEMBL ID', 'Molecule Name', 'Molecule Max Phase', 'Molecular Weight', '#RO5 Violations', 'AlogP', 'Compound Key', 'Smiles', 'Standard Type', 'Standard Relation', 'Standard Value', 'Standard Units', 'pChEMBL Value', 'Data Validity Comment', 'Comment', 'Uo Units', 'Ligand Efficiency BEI', 'Ligand Efficiency LE', 'Ligand Efficiency LLE', 'Ligand Efficiency SEI', 'Potential Duplicate', 'Assay ChEMBL ID', 'Assay Description', 'Assay Type', 'BAO Format ID', 'BAO Label', 'Assay Organism', 'Assay Tissue ChEMBL ID', 'Assay Tissue Name', 'Assay Cell Type', 'Assay Subcellular Fraction', 'Assay Parameters', 'Assay Variant Accession', 'Assay Variant Mutation', 'Target ChEMBL ID', 'Target Name', 'Target Organism', 'Target Type', 'Document ChEMBL ID', 'Source ID', 'Source Description', 'Document Journal', 'Document Year', 'Cell ChEMBL ID', 'Properties', 'Action Type', 'Standard Text Value', 'Value', 'target']\n",
      "Total rows before filtering: 23449\n",
      "Rows with standard_type as IC50 or Ki: 14146\n",
      "Rows with assay_type as 'B': 19844\n",
      "Rows with non-null standard_value: 18924\n",
      "Rows with non-null smiles: 23293\n",
      "Unique values in standard_relation: [\"'='\" \"'>'\" nan \"'<'\" \"'~'\" \"'<='\" \"'>='\"]\n",
      "Rows remaining after all filters: 10114\n",
      "Clean dataset saved as 'cox_cleaned_bioactivity.csv'\n"
     ]
    }
   ],
   "source": [
    "import pandas as pd\n",
    "import numpy as np\n",
    "import os\n",
    "\n",
    "# Set working directory\n",
    "os.chdir(\"/Users/sandragarcia/Documents/HUMBER/Clinical Bioinformatics/2nd Semester/Capstone Project/\")\n",
    "\n",
    "# Load the CSVs using automatic separator detection\n",
    "df1 = pd.read_csv(\"cox1_data.csv\", sep=None, engine=\"python\") # autodetect separator like comma or tab.\n",
    "df2 = pd.read_csv(\"cox2_data.csv\", sep=None, engine=\"python\")\n",
    "\n",
    "# Add target labels\n",
    "# New column called target to identify if each row corresponds to COX1 or COX2.\n",
    "df1[\"target\"] = \"COX1\"\n",
    "df2[\"target\"] = \"COX2\"\n",
    "\n",
    "# Combine datasets\n",
    "df = pd.concat([df1, df2], ignore_index=True) # Restart the numbering of the rows.\n",
    "\n",
    "# Print columns to verify\n",
    "# Print the list of columns of the combined dataframe, so we can see what they are actually called.\n",
    "print(\"Columns in merged dataframe:\", df.columns.tolist())\n",
    "\n",
    "# Rename columns to simplify\n",
    "df.rename(columns={\n",
    "    \"Smiles\": \"smiles\",\n",
    "    \"Standard Type\": \"standard_type\",\n",
    "    \"Standard Relation\": \"standard_relation\",\n",
    "    \"Standard Value\": \"standard_value\",\n",
    "    \"Assay Type\": \"assay_type\"\n",
    "}, inplace=True)\n",
    "\n",
    "# Check how many rows match each filtering condition\n",
    "# This helps us understand which filter is eliminating too many rows\n",
    "print(\"Total rows before filtering:\", len(df))\n",
    "print(\"Rows with standard_type as IC50 or Ki:\", len(df[df[\"standard_type\"].isin([\"IC50\", \"Ki\"])]))\n",
    "print(\"Rows with assay_type as 'B':\", len(df[df[\"assay_type\"] == \"B\"]))\n",
    "print(\"Rows with non-null standard_value:\", len(df[df[\"standard_value\"].notnull()]))\n",
    "print(\"Rows with non-null smiles:\", len(df[df[\"smiles\"].notnull()]))\n",
    "print(\"Unique values in standard_relation:\", df[\"standard_relation\"].unique())\n",
    "\n",
    "# Apply filters without relation condition\n",
    "df = df[\n",
    "    (df[\"standard_type\"].isin([\"IC50\", \"Ki\"])) &\n",
    "    (df[\"assay_type\"] == \"B\") &\n",
    "    (df[\"standard_value\"].notnull()) &\n",
    "    (df[\"smiles\"].notnull())\n",
    "]\n",
    "\n",
    "# Remove invalid values before applying log10\n",
    "df = df[df[\"standard_value\"] > 0]\n",
    "\n",
    "print(\"Rows remaining after all filters:\", len(df))\n",
    "\n",
    "# Convert to pChEMBL\n",
    "# This conversion makes it easy to compare compounds with each other and use those values as a target variable (y) in a regression model.\n",
    "df[\"pChEMBL\"] = -np.log10(df[\"standard_value\"] * 1e-9)\n",
    "\n",
    "# Keep relevant columns\n",
    "df_clean = df[[\"smiles\", \"target\", \"standard_type\", \"standard_value\", \"pChEMBL\"]]\n",
    "df_clean = df_clean.drop_duplicates()\n",
    "\n",
    "# Save cleaned data\n",
    "df_clean.to_csv(\"cox_cleaned_bioactivity.csv\", index=False)\n",
    "\n",
    "print(\"Clean dataset saved as 'cox_cleaned_bioactivity.csv'\")\n"
   ]
  },
  {
   "cell_type": "code",
   "execution_count": 15,
   "id": "340cebb3",
   "metadata": {},
   "outputs": [
    {
     "name": "stdout",
     "output_type": "stream",
     "text": [
      "Paracetamol SMILES: CC(=O)Nc1ccc(O)cc1\n"
     ]
    }
   ],
   "source": [
    "import requests\n",
    "\n",
    "def get_chembl_id(query_name, resource_type):\n",
    "    base_url = \"https://www.ebi.ac.uk/chembl/api/data/\" + resource_type + \"/search\"\n",
    "    params = {'q': query_name, 'limit': 1,\n",
    "              'format': 'json', 'organism': 'Homo sapiens'}\n",
    "    response = requests.get(base_url, params=params)\n",
    "    data = response.json()\n",
    "    if resource_type == \"molecule\":\n",
    "        return data[\"molecules\"][0][\"molecule_chembl_id\"]\n",
    "    return None\n",
    "\n",
    "def get_smiles(chembl_id):\n",
    "    url = f\"https://www.ebi.ac.uk/chembl/api/data/molecule/{chembl_id}.json\"\n",
    "    response = requests.get(url)\n",
    "    data = response.json()\n",
    "    return data[\"molecule_structures\"][\"canonical_smiles\"]\n",
    "\n",
    "# Example: get smiles for paracetamol\n",
    "chembl_id = get_chembl_id(\"paracetamol\", \"molecule\")   # Should return CHEMBL112\n",
    "paracetamol_smiles = get_smiles(chembl_id)             # Returns canonical SMILES\n",
    "print(\"Paracetamol SMILES:\", paracetamol_smiles)\n"
   ]
  }
 ],
 "metadata": {
  "kernelspec": {
   "display_name": "Python 3",
   "language": "python",
   "name": "python3"
  },
  "language_info": {
   "codemirror_mode": {
    "name": "ipython",
    "version": 3
   },
   "file_extension": ".py",
   "mimetype": "text/x-python",
   "name": "python",
   "nbconvert_exporter": "python",
   "pygments_lexer": "ipython3",
   "version": "3.13.1"
  }
 },
 "nbformat": 4,
 "nbformat_minor": 5
}
