{
 "cells": [
  {
   "cell_type": "code",
   "execution_count": 5,
   "id": "76eb889d",
   "metadata": {},
   "outputs": [
    {
     "name": "stdout",
     "output_type": "stream",
     "text": [
      "SMILES DataFrame:\n",
      "          drug  chembl_id                                             smiles\n",
      "0  paracetamol  CHEMBL112                                 CC(=O)Nc1ccc(O)cc1\n",
      "1    ibuprofen  CHEMBL521                         CC(C)Cc1ccc(C(C)C(=O)O)cc1\n",
      "2    celecoxib  CHEMBL118  Cc1ccc(-c2cc(C(F)(F)F)nn2-c2ccc(S(N)(=O)=O)cc2...\n"
     ]
    }
   ],
   "source": [
    "# Import necessary libraries\n",
    "import requests       # to fetch data from the web API\n",
    "import pandas as pd   # to organize and store the data\n",
    "\n",
    "# Step 1: Define a list of drug names we are interested in\n",
    "drug_names = ['paracetamol', 'ibuprofen', 'celecoxib']\n",
    "\n",
    "# Step 2: Create an empty list to collect drug information\n",
    "drug_data = []\n",
    "\n",
    "# Step 3: Loop through each drug to query ChEMBL and retrieve SMILES\n",
    "for drug in drug_names:\n",
    "    # Use ChEMBL API to search for the drug and get its ChEMBL ID\n",
    "    url = f\"https://www.ebi.ac.uk/chembl/api/data/molecule/search?q={drug}\"\n",
    "    response = requests.get(url, headers={\"Accept\": \"application/json\"})\n",
    "\n",
    "    # If the search is successful (status code 200)\n",
    "    if response.status_code == 200:\n",
    "        results = response.json()\n",
    "        # Get the first hit from the search result\n",
    "        if results['molecules']:\n",
    "            chembl_id = results['molecules'][0]['molecule_chembl_id']\n",
    "\n",
    "            # Use the ChEMBL ID to get molecule details (like SMILES)\n",
    "            mol_url = f\"https://www.ebi.ac.uk/chembl/api/data/molecule/{chembl_id}.json\"\n",
    "            mol_response = requests.get(mol_url)\n",
    "\n",
    "            if mol_response.status_code == 200:\n",
    "                mol_data = mol_response.json()\n",
    "\n",
    "                # Extract canonical SMILES string\n",
    "                smiles = mol_data.get('molecule_structures', {}).get('canonical_smiles', 'NA')\n",
    "\n",
    "                # Append results to the list\n",
    "                drug_data.append({'drug': drug, 'chembl_id': chembl_id, 'smiles': smiles})\n",
    "    else:\n",
    "        print(f\"Failed to retrieve data for {drug}\")\n",
    "\n",
    "# Step 4: Convert collected data into a pandas DataFrame\n",
    "df_smiles = pd.DataFrame(drug_data)\n",
    "\n",
    "# Step 5: Display the results\n",
    "print(\"SMILES DataFrame:\")\n",
    "print(df_smiles)\n",
    "\n",
    "# Optional: Save to CSV\n",
    "df_smiles.to_csv(\"drug_smiles.csv\", index=False)\n",
    "\n",
    "\n"
   ]
  },
  {
   "cell_type": "code",
   "execution_count": null,
   "id": "371bcc6c",
   "metadata": {},
   "outputs": [
    {
     "name": "stdout",
     "output_type": "stream",
     "text": [
      "\n",
      "COX1 Sequence (first 100 amino acids):\n",
      "MSRSLLLWFLLFLLLLPPLPVLLADPGAPTPVNPCCYYPCQHQGICVRFGLDRYQCDCTRTGYSGPNCTIPGLWTWLRNSLRPSPSFTHFLLTHGRWFWE...\n",
      "\n",
      "\n",
      "COX2 Sequence (first 100 amino acids):\n",
      "MLARALLLCAVLALSHTANPCCSHPCQNRGVCMSVGFDQYKCDCTRTGFYGENCSTPEFLTRIKLFLKPTPNTVHYILTHFKGFWNVVNNIPFLRNAIMS...\n",
      "\n"
     ]
    }
   ],
   "source": [
    "# Step 1: Define UniProt IDs for COX-1 and COX-2\n",
    "protein_ids = {\n",
    "    \"COX1\": \"P23219\",  # PTGS1 - Cyclooxygenase-1\n",
    "    \"COX2\": \"P35354\"   # PTGS2 - Cyclooxygenase-2\n",
    "}\n",
    "\n",
    "# Step 2: Create a dictionary to store protein sequences\n",
    "protein_seqs = {}\n",
    "\n",
    "# Step 3: Fetch sequences using UniProt REST API\n",
    "for name, uniprot_id in protein_ids.items():\n",
    "    url = f\"https://rest.uniprot.org/uniprotkb/{uniprot_id}.fasta\"\n",
    "    response = requests.get(url)\n",
    "\n",
    "    if response.status_code == 200:\n",
    "        fasta_data = response.text\n",
    "\n",
    "        # Remove the FASTA header (starting with '>') and join the sequence lines\n",
    "        sequence = ''.join(fasta_data.split('\\n')[1:])\n",
    "        protein_seqs[name] = sequence\n",
    "    else:\n",
    "        print(f\"Error fetching {name} sequence.\")\n",
    "\n",
    "# Step 4: Display a preview of the sequences\n",
    "for name, seq in protein_seqs.items():\n",
    "    print(f\"\\n{name} Sequence (first 100 amino acids):\\n{seq[:100]}...\\n\")\n",
    "\n",
    "# Optional: Save to FASTA files\n",
    "with open(\"COX1.fasta\", \"w\") as f:\n",
    "    f.write(f\">COX1|P23219\\n{protein_seqs['COX1']}\")\n",
    "\n",
    "with open(\"COX2.fasta\", \"w\") as f:\n",
    "    f.write(f\">COX2|P35354\\n{protein_seqs['COX2']}\")\n",
    "\n"
   ]
  }
 ],
 "metadata": {
  "kernelspec": {
   "display_name": "Python 3",
   "language": "python",
   "name": "python3"
  },
  "language_info": {
   "codemirror_mode": {
    "name": "ipython",
    "version": 3
   },
   "file_extension": ".py",
   "mimetype": "text/x-python",
   "name": "python",
   "nbconvert_exporter": "python",
   "pygments_lexer": "ipython3",
   "version": "3.13.1"
  }
 },
 "nbformat": 4,
 "nbformat_minor": 5
}
